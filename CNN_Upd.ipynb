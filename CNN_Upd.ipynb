{
 "cells": [
  {
   "cell_type": "code",
   "execution_count": 1,
   "id": "c10ce8a9-f361-4c68-935c-7e9004f8bf7c",
   "metadata": {},
   "outputs": [
    {
     "name": "stdout",
     "output_type": "stream",
     "text": [
      "Requirement already satisfied: yfinance in c:\\python311\\lib\\site-packages (0.2.43)\n",
      "Requirement already satisfied: pandas>=1.3.0 in c:\\python311\\lib\\site-packages (from yfinance) (2.2.2)\n",
      "Requirement already satisfied: numpy>=1.16.5 in c:\\python311\\lib\\site-packages (from yfinance) (1.26.4)\n",
      "Requirement already satisfied: requests>=2.31 in c:\\python311\\lib\\site-packages (from yfinance) (2.32.3)\n",
      "Requirement already satisfied: multitasking>=0.0.7 in c:\\python311\\lib\\site-packages (from yfinance) (0.0.11)\n",
      "Requirement already satisfied: lxml>=4.9.1 in c:\\python311\\lib\\site-packages (from yfinance) (5.3.0)\n",
      "Requirement already satisfied: platformdirs>=2.0.0 in c:\\python311\\lib\\site-packages (from yfinance) (4.2.2)\n",
      "Requirement already satisfied: pytz>=2022.5 in c:\\python311\\lib\\site-packages (from yfinance) (2024.1)\n",
      "Requirement already satisfied: frozendict>=2.3.4 in c:\\python311\\lib\\site-packages (from yfinance) (2.4.4)\n",
      "Requirement already satisfied: peewee>=3.16.2 in c:\\python311\\lib\\site-packages (from yfinance) (3.17.6)\n",
      "Requirement already satisfied: beautifulsoup4>=4.11.1 in c:\\python311\\lib\\site-packages (from yfinance) (4.12.3)\n",
      "Requirement already satisfied: html5lib>=1.1 in c:\\python311\\lib\\site-packages (from yfinance) (1.1)\n",
      "Requirement already satisfied: soupsieve>1.2 in c:\\python311\\lib\\site-packages (from beautifulsoup4>=4.11.1->yfinance) (2.5)\n",
      "Requirement already satisfied: six>=1.9 in c:\\python311\\lib\\site-packages (from html5lib>=1.1->yfinance) (1.16.0)\n",
      "Requirement already satisfied: webencodings in c:\\python311\\lib\\site-packages (from html5lib>=1.1->yfinance) (0.5.1)\n",
      "Requirement already satisfied: python-dateutil>=2.8.2 in c:\\python311\\lib\\site-packages (from pandas>=1.3.0->yfinance) (2.9.0.post0)\n",
      "Requirement already satisfied: tzdata>=2022.7 in c:\\python311\\lib\\site-packages (from pandas>=1.3.0->yfinance) (2024.1)\n",
      "Requirement already satisfied: charset-normalizer<4,>=2 in c:\\python311\\lib\\site-packages (from requests>=2.31->yfinance) (3.3.2)\n",
      "Requirement already satisfied: idna<4,>=2.5 in c:\\python311\\lib\\site-packages (from requests>=2.31->yfinance) (3.7)\n",
      "Requirement already satisfied: urllib3<3,>=1.21.1 in c:\\python311\\lib\\site-packages (from requests>=2.31->yfinance) (2.2.2)\n",
      "Requirement already satisfied: certifi>=2017.4.17 in c:\\python311\\lib\\site-packages (from requests>=2.31->yfinance) (2024.7.4)\n"
     ]
    },
    {
     "name": "stderr",
     "output_type": "stream",
     "text": [
      "\n",
      "[notice] A new release of pip is available: 23.1.2 -> 24.3.1\n",
      "[notice] To update, run: python.exe -m pip install --upgrade pip\n"
     ]
    }
   ],
   "source": [
    "!pip install yfinance"
   ]
  },
  {
   "cell_type": "code",
   "execution_count": 2,
   "id": "e60a6d32-ceb0-4542-a5f8-335ac2613047",
   "metadata": {},
   "outputs": [
    {
     "name": "stdout",
     "output_type": "stream",
     "text": [
      "Requirement already satisfied: tensorflow in c:\\python311\\lib\\site-packages (2.17.0)\n",
      "Requirement already satisfied: tensorflow-intel==2.17.0 in c:\\python311\\lib\\site-packages (from tensorflow) (2.17.0)\n",
      "Requirement already satisfied: absl-py>=1.0.0 in c:\\python311\\lib\\site-packages (from tensorflow-intel==2.17.0->tensorflow) (2.1.0)\n",
      "Requirement already satisfied: astunparse>=1.6.0 in c:\\python311\\lib\\site-packages (from tensorflow-intel==2.17.0->tensorflow) (1.6.3)\n",
      "Requirement already satisfied: flatbuffers>=24.3.25 in c:\\python311\\lib\\site-packages (from tensorflow-intel==2.17.0->tensorflow) (24.3.25)\n",
      "Requirement already satisfied: gast!=0.5.0,!=0.5.1,!=0.5.2,>=0.2.1 in c:\\python311\\lib\\site-packages (from tensorflow-intel==2.17.0->tensorflow) (0.6.0)\n",
      "Requirement already satisfied: google-pasta>=0.1.1 in c:\\python311\\lib\\site-packages (from tensorflow-intel==2.17.0->tensorflow) (0.2.0)\n",
      "Requirement already satisfied: h5py>=3.10.0 in c:\\python311\\lib\\site-packages (from tensorflow-intel==2.17.0->tensorflow) (3.12.1)\n",
      "Requirement already satisfied: libclang>=13.0.0 in c:\\python311\\lib\\site-packages (from tensorflow-intel==2.17.0->tensorflow) (18.1.1)\n",
      "Requirement already satisfied: ml-dtypes<0.5.0,>=0.3.1 in c:\\python311\\lib\\site-packages (from tensorflow-intel==2.17.0->tensorflow) (0.4.1)\n",
      "Requirement already satisfied: opt-einsum>=2.3.2 in c:\\python311\\lib\\site-packages (from tensorflow-intel==2.17.0->tensorflow) (3.4.0)\n",
      "Requirement already satisfied: packaging in c:\\python311\\lib\\site-packages (from tensorflow-intel==2.17.0->tensorflow) (24.1)\n",
      "Requirement already satisfied: protobuf!=4.21.0,!=4.21.1,!=4.21.2,!=4.21.3,!=4.21.4,!=4.21.5,<5.0.0dev,>=3.20.3 in c:\\python311\\lib\\site-packages (from tensorflow-intel==2.17.0->tensorflow) (4.25.5)\n",
      "Requirement already satisfied: requests<3,>=2.21.0 in c:\\python311\\lib\\site-packages (from tensorflow-intel==2.17.0->tensorflow) (2.32.3)\n",
      "Requirement already satisfied: setuptools in c:\\python311\\lib\\site-packages (from tensorflow-intel==2.17.0->tensorflow) (65.5.0)\n",
      "Requirement already satisfied: six>=1.12.0 in c:\\python311\\lib\\site-packages (from tensorflow-intel==2.17.0->tensorflow) (1.16.0)\n",
      "Requirement already satisfied: termcolor>=1.1.0 in c:\\python311\\lib\\site-packages (from tensorflow-intel==2.17.0->tensorflow) (2.5.0)\n",
      "Requirement already satisfied: typing-extensions>=3.6.6 in c:\\python311\\lib\\site-packages (from tensorflow-intel==2.17.0->tensorflow) (4.12.2)\n",
      "Requirement already satisfied: wrapt>=1.11.0 in c:\\python311\\lib\\site-packages (from tensorflow-intel==2.17.0->tensorflow) (1.16.0)\n",
      "Requirement already satisfied: grpcio<2.0,>=1.24.3 in c:\\python311\\lib\\site-packages (from tensorflow-intel==2.17.0->tensorflow) (1.67.0)\n",
      "Requirement already satisfied: tensorboard<2.18,>=2.17 in c:\\python311\\lib\\site-packages (from tensorflow-intel==2.17.0->tensorflow) (2.17.1)\n",
      "Requirement already satisfied: keras>=3.2.0 in c:\\python311\\lib\\site-packages (from tensorflow-intel==2.17.0->tensorflow) (3.6.0)\n",
      "Requirement already satisfied: tensorflow-io-gcs-filesystem>=0.23.1 in c:\\python311\\lib\\site-packages (from tensorflow-intel==2.17.0->tensorflow) (0.31.0)\n",
      "Requirement already satisfied: numpy<2.0.0,>=1.23.5 in c:\\python311\\lib\\site-packages (from tensorflow-intel==2.17.0->tensorflow) (1.26.4)\n",
      "Requirement already satisfied: wheel<1.0,>=0.23.0 in c:\\python311\\lib\\site-packages (from astunparse>=1.6.0->tensorflow-intel==2.17.0->tensorflow) (0.44.0)\n",
      "Requirement already satisfied: rich in c:\\python311\\lib\\site-packages (from keras>=3.2.0->tensorflow-intel==2.17.0->tensorflow) (13.9.2)\n",
      "Requirement already satisfied: namex in c:\\python311\\lib\\site-packages (from keras>=3.2.0->tensorflow-intel==2.17.0->tensorflow) (0.0.8)\n",
      "Requirement already satisfied: optree in c:\\python311\\lib\\site-packages (from keras>=3.2.0->tensorflow-intel==2.17.0->tensorflow) (0.13.0)\n",
      "Requirement already satisfied: charset-normalizer<4,>=2 in c:\\python311\\lib\\site-packages (from requests<3,>=2.21.0->tensorflow-intel==2.17.0->tensorflow) (3.3.2)\n",
      "Requirement already satisfied: idna<4,>=2.5 in c:\\python311\\lib\\site-packages (from requests<3,>=2.21.0->tensorflow-intel==2.17.0->tensorflow) (3.7)\n",
      "Requirement already satisfied: urllib3<3,>=1.21.1 in c:\\python311\\lib\\site-packages (from requests<3,>=2.21.0->tensorflow-intel==2.17.0->tensorflow) (2.2.2)\n",
      "Requirement already satisfied: certifi>=2017.4.17 in c:\\python311\\lib\\site-packages (from requests<3,>=2.21.0->tensorflow-intel==2.17.0->tensorflow) (2024.7.4)\n",
      "Requirement already satisfied: markdown>=2.6.8 in c:\\python311\\lib\\site-packages (from tensorboard<2.18,>=2.17->tensorflow-intel==2.17.0->tensorflow) (3.7)\n",
      "Requirement already satisfied: tensorboard-data-server<0.8.0,>=0.7.0 in c:\\python311\\lib\\site-packages (from tensorboard<2.18,>=2.17->tensorflow-intel==2.17.0->tensorflow) (0.7.2)\n",
      "Requirement already satisfied: werkzeug>=1.0.1 in c:\\python311\\lib\\site-packages (from tensorboard<2.18,>=2.17->tensorflow-intel==2.17.0->tensorflow) (3.0.4)\n",
      "Requirement already satisfied: MarkupSafe>=2.1.1 in c:\\python311\\lib\\site-packages (from werkzeug>=1.0.1->tensorboard<2.18,>=2.17->tensorflow-intel==2.17.0->tensorflow) (2.1.5)\n",
      "Requirement already satisfied: markdown-it-py>=2.2.0 in c:\\python311\\lib\\site-packages (from rich->keras>=3.2.0->tensorflow-intel==2.17.0->tensorflow) (3.0.0)\n",
      "Requirement already satisfied: pygments<3.0.0,>=2.13.0 in c:\\python311\\lib\\site-packages (from rich->keras>=3.2.0->tensorflow-intel==2.17.0->tensorflow) (2.18.0)\n",
      "Requirement already satisfied: mdurl~=0.1 in c:\\python311\\lib\\site-packages (from markdown-it-py>=2.2.0->rich->keras>=3.2.0->tensorflow-intel==2.17.0->tensorflow) (0.1.2)\n",
      "Note: you may need to restart the kernel to use updated packages.\n"
     ]
    },
    {
     "name": "stderr",
     "output_type": "stream",
     "text": [
      "\n",
      "[notice] A new release of pip is available: 23.1.2 -> 24.3.1\n",
      "[notice] To update, run: python.exe -m pip install --upgrade pip\n"
     ]
    }
   ],
   "source": [
    "pip install tensorflow"
   ]
  },
  {
   "cell_type": "code",
   "execution_count": 3,
   "id": "6626b27a-2437-4b28-9d22-1244765beeb7",
   "metadata": {},
   "outputs": [
    {
     "name": "stderr",
     "output_type": "stream",
     "text": [
      "[*********************100%***********************]  1 of 1 completed\n"
     ]
    }
   ],
   "source": [
    "import yfinance as yf\n",
    "stock= yf.download(\"AMZN\", start=\"2014-10-15\", end=\"2024-10-15\")"
   ]
  },
  {
   "cell_type": "code",
   "execution_count": 4,
   "id": "f20ab2ab-8554-4591-8fdb-39b9f86e7a62",
   "metadata": {},
   "outputs": [
    {
     "data": {
      "text/plain": [
       "<bound method NDFrame.head of                   Open        High         Low       Close   Adj Close  \\\n",
       "Date                                                                     \n",
       "2014-10-15   15.217500   15.395000   14.955000   15.298500   15.298500   \n",
       "2014-10-16   14.691500   15.341000   14.691500   15.143000   15.143000   \n",
       "2014-10-17   15.357500   15.460000   15.136000   15.182000   15.182000   \n",
       "2014-10-20   15.147500   15.326500   15.101000   15.310500   15.310500   \n",
       "2014-10-21   15.495000   15.782000   15.353500   15.766500   15.766500   \n",
       "...                ...         ...         ...         ...         ...   \n",
       "2024-10-08  181.919998  183.089996  180.919998  182.720001  182.720001   \n",
       "2024-10-09  182.820007  185.850006  182.050003  185.169998  185.169998   \n",
       "2024-10-10  187.130005  188.130005  185.830002  186.649994  186.649994   \n",
       "2024-10-11  186.630005  189.929993  186.300003  188.820007  188.820007   \n",
       "2024-10-14  189.779999  189.830002  187.360001  187.539993  187.539993   \n",
       "\n",
       "               Volume  \n",
       "Date                   \n",
       "2014-10-15  106878000  \n",
       "2014-10-16   94626000  \n",
       "2014-10-17   88102000  \n",
       "2014-10-20   64690000  \n",
       "2014-10-21   71186000  \n",
       "...               ...  \n",
       "2024-10-08   26372100  \n",
       "2024-10-09   26343100  \n",
       "2024-10-10   27785000  \n",
       "2024-10-11   25751600  \n",
       "2024-10-14   22614400  \n",
       "\n",
       "[2516 rows x 6 columns]>"
      ]
     },
     "execution_count": 4,
     "metadata": {},
     "output_type": "execute_result"
    }
   ],
   "source": [
    "stock.head"
   ]
  },
  {
   "cell_type": "code",
   "execution_count": 5,
   "id": "ea09614a-9c27-484c-9149-193849f9c054",
   "metadata": {},
   "outputs": [
    {
     "data": {
      "text/plain": [
       "(2516, 6)"
      ]
     },
     "execution_count": 5,
     "metadata": {},
     "output_type": "execute_result"
    }
   ],
   "source": [
    "stock.shape"
   ]
  },
  {
   "cell_type": "code",
   "execution_count": 6,
   "id": "b3a8f529-d231-44a3-b114-5ccfeb77bee3",
   "metadata": {},
   "outputs": [
    {
     "data": {
      "text/html": [
       "<div>\n",
       "<style scoped>\n",
       "    .dataframe tbody tr th:only-of-type {\n",
       "        vertical-align: middle;\n",
       "    }\n",
       "\n",
       "    .dataframe tbody tr th {\n",
       "        vertical-align: top;\n",
       "    }\n",
       "\n",
       "    .dataframe thead th {\n",
       "        text-align: right;\n",
       "    }\n",
       "</style>\n",
       "<table border=\"1\" class=\"dataframe\">\n",
       "  <thead>\n",
       "    <tr style=\"text-align: right;\">\n",
       "      <th></th>\n",
       "      <th>Open</th>\n",
       "      <th>High</th>\n",
       "      <th>Low</th>\n",
       "      <th>Close</th>\n",
       "      <th>Adj Close</th>\n",
       "      <th>Volume</th>\n",
       "    </tr>\n",
       "  </thead>\n",
       "  <tbody>\n",
       "    <tr>\n",
       "      <th>count</th>\n",
       "      <td>2516.000000</td>\n",
       "      <td>2516.000000</td>\n",
       "      <td>2516.000000</td>\n",
       "      <td>2516.000000</td>\n",
       "      <td>2516.000000</td>\n",
       "      <td>2.516000e+03</td>\n",
       "    </tr>\n",
       "    <tr>\n",
       "      <th>mean</th>\n",
       "      <td>97.126900</td>\n",
       "      <td>98.231128</td>\n",
       "      <td>95.916503</td>\n",
       "      <td>97.097807</td>\n",
       "      <td>97.097807</td>\n",
       "      <td>7.717162e+07</td>\n",
       "    </tr>\n",
       "    <tr>\n",
       "      <th>std</th>\n",
       "      <td>53.191646</td>\n",
       "      <td>53.802083</td>\n",
       "      <td>52.509648</td>\n",
       "      <td>53.149997</td>\n",
       "      <td>53.149997</td>\n",
       "      <td>4.095630e+07</td>\n",
       "    </tr>\n",
       "    <tr>\n",
       "      <th>min</th>\n",
       "      <td>14.220000</td>\n",
       "      <td>14.521000</td>\n",
       "      <td>14.200000</td>\n",
       "      <td>14.347500</td>\n",
       "      <td>14.347500</td>\n",
       "      <td>1.762600e+07</td>\n",
       "    </tr>\n",
       "    <tr>\n",
       "      <th>25%</th>\n",
       "      <td>45.149249</td>\n",
       "      <td>45.462249</td>\n",
       "      <td>44.861000</td>\n",
       "      <td>45.114250</td>\n",
       "      <td>45.114250</td>\n",
       "      <td>5.155375e+07</td>\n",
       "    </tr>\n",
       "    <tr>\n",
       "      <th>50%</th>\n",
       "      <td>92.920002</td>\n",
       "      <td>94.099998</td>\n",
       "      <td>91.736248</td>\n",
       "      <td>93.083252</td>\n",
       "      <td>93.083252</td>\n",
       "      <td>6.618500e+07</td>\n",
       "    </tr>\n",
       "    <tr>\n",
       "      <th>75%</th>\n",
       "      <td>150.299999</td>\n",
       "      <td>152.005993</td>\n",
       "      <td>147.520874</td>\n",
       "      <td>149.997746</td>\n",
       "      <td>149.997746</td>\n",
       "      <td>9.070700e+07</td>\n",
       "    </tr>\n",
       "    <tr>\n",
       "      <th>max</th>\n",
       "      <td>200.089996</td>\n",
       "      <td>201.199997</td>\n",
       "      <td>199.050003</td>\n",
       "      <td>200.000000</td>\n",
       "      <td>200.000000</td>\n",
       "      <td>4.771220e+08</td>\n",
       "    </tr>\n",
       "  </tbody>\n",
       "</table>\n",
       "</div>"
      ],
      "text/plain": [
       "              Open         High          Low        Close    Adj Close  \\\n",
       "count  2516.000000  2516.000000  2516.000000  2516.000000  2516.000000   \n",
       "mean     97.126900    98.231128    95.916503    97.097807    97.097807   \n",
       "std      53.191646    53.802083    52.509648    53.149997    53.149997   \n",
       "min      14.220000    14.521000    14.200000    14.347500    14.347500   \n",
       "25%      45.149249    45.462249    44.861000    45.114250    45.114250   \n",
       "50%      92.920002    94.099998    91.736248    93.083252    93.083252   \n",
       "75%     150.299999   152.005993   147.520874   149.997746   149.997746   \n",
       "max     200.089996   201.199997   199.050003   200.000000   200.000000   \n",
       "\n",
       "             Volume  \n",
       "count  2.516000e+03  \n",
       "mean   7.717162e+07  \n",
       "std    4.095630e+07  \n",
       "min    1.762600e+07  \n",
       "25%    5.155375e+07  \n",
       "50%    6.618500e+07  \n",
       "75%    9.070700e+07  \n",
       "max    4.771220e+08  "
      ]
     },
     "execution_count": 6,
     "metadata": {},
     "output_type": "execute_result"
    }
   ],
   "source": [
    "stock.describe()"
   ]
  },
  {
   "cell_type": "code",
   "execution_count": 7,
   "id": "463612bb-8334-4026-a9ff-8238102d70a8",
   "metadata": {},
   "outputs": [],
   "source": [
    "stock = stock.ffill()"
   ]
  },
  {
   "cell_type": "code",
   "execution_count": 8,
   "id": "e4a868e1-ea77-4940-ba1b-50553d94e722",
   "metadata": {},
   "outputs": [
    {
     "data": {
      "text/plain": [
       "<Axes: xlabel='Date'>"
      ]
     },
     "execution_count": 8,
     "metadata": {},
     "output_type": "execute_result"
    },
    {
     "data": {
      "image/png": "[encoded data removed]",
      "text/plain": [
       "<Figure size 640x480 with 1 Axes>"
      ]
     },
     "metadata": {},
     "output_type": "display_data"
    }
   ],
   "source": [
    "stock['Adj Close'].plot()"
   ]
  },
  {
   "cell_type": "code",
   "execution_count": 9,
   "id": "dab2fca7-2cb8-49d9-83e6-0925e9bf6732",
   "metadata": {},
   "outputs": [],
   "source": [
    "X=stock.drop(['Adj Close'],axis=1)\n",
    "X=X.drop(['Close'],axis=1)"
   ]
  },
  {
   "cell_type": "code",
   "execution_count": 12,
   "id": "05651ef1-abaf-40f9-9336-3c0a02af64a0",
   "metadata": {},
   "outputs": [],
   "source": [
    "import pandas as pd\n",
    "import numpy as np\n",
    "from sklearn.model_selection import train_test_split\n",
    "from sklearn.metrics import mean_squared_error, r2_score\n",
    "from keras.models import Sequential\n",
    "from sklearn import preprocessing\n",
    "from keras.layers import Conv1D,Flatten,MaxPooling1D,Bidirectional,LSTM,Dropout,TimeDistributed,MaxPool2D\n",
    "from keras.layers import Dense,GlobalAveragePooling2D\n",
    "import matplotlib.pyplot as plt\n",
    "import os\n",
    "import pprint\n",
    "import tensorflow as tf"
   ]
  },
  {
   "cell_type": "code",
   "execution_count": 13,
   "id": "4745a1c8-1caa-404d-81e4-9f78a987788b",
   "metadata": {},
   "outputs": [
    {
     "data": {
      "text/plain": [
       "<Axes: title={'center': 'Correlation with Adj Close'}>"
      ]
     },
     "execution_count": 13,
     "metadata": {},
     "output_type": "execute_result"
    },
    {
     "data": {
      "image/png": "[encoded data removed]",
      "text/plain": [
       "<Figure size 2000x1000 with 1 Axes>"
      ]
     },
     "metadata": {},
     "output_type": "display_data"
    }
   ],
   "source": [
    "# Select only numeric columns from X\n",
    "X_numeric = X.select_dtypes(include=[np.number])\n",
    "\n",
    "# Compute correlation with 'Adj Close' and plot\n",
    "X_numeric.corrwith(stock['Adj Close']).plot.bar(\n",
    "        figsize=(20, 10), title=\"Correlation with Adj Close\", fontsize=20,\n",
    "        rot=90, grid=True)"
   ]
  },
  {
   "cell_type": "code",
   "execution_count": 14,
   "id": "62d9c516-a664-41f6-b4c3-6b612fbfb9c8",
   "metadata": {},
   "outputs": [
    {
     "data": {
      "text/html": [
       "<div>\n",
       "<style scoped>\n",
       "    .dataframe tbody tr th:only-of-type {\n",
       "        vertical-align: middle;\n",
       "    }\n",
       "\n",
       "    .dataframe tbody tr th {\n",
       "        vertical-align: top;\n",
       "    }\n",
       "\n",
       "    .dataframe thead th {\n",
       "        text-align: right;\n",
       "    }\n",
       "</style>\n",
       "<table border=\"1\" class=\"dataframe\">\n",
       "  <thead>\n",
       "    <tr style=\"text-align: right;\">\n",
       "      <th></th>\n",
       "      <th>Open</th>\n",
       "      <th>High</th>\n",
       "      <th>Low</th>\n",
       "      <th>Close</th>\n",
       "      <th>Adj Close</th>\n",
       "      <th>Volume</th>\n",
       "    </tr>\n",
       "    <tr>\n",
       "      <th>Date</th>\n",
       "      <th></th>\n",
       "      <th></th>\n",
       "      <th></th>\n",
       "      <th></th>\n",
       "      <th></th>\n",
       "      <th></th>\n",
       "    </tr>\n",
       "  </thead>\n",
       "  <tbody>\n",
       "    <tr>\n",
       "      <th>2014-10-15</th>\n",
       "      <td>15.2175</td>\n",
       "      <td>15.3950</td>\n",
       "      <td>14.9550</td>\n",
       "      <td>15.2985</td>\n",
       "      <td>15.2985</td>\n",
       "      <td>106878000</td>\n",
       "    </tr>\n",
       "    <tr>\n",
       "      <th>2014-10-16</th>\n",
       "      <td>14.6915</td>\n",
       "      <td>15.3410</td>\n",
       "      <td>14.6915</td>\n",
       "      <td>15.1430</td>\n",
       "      <td>15.1430</td>\n",
       "      <td>94626000</td>\n",
       "    </tr>\n",
       "    <tr>\n",
       "      <th>2014-10-17</th>\n",
       "      <td>15.3575</td>\n",
       "      <td>15.4600</td>\n",
       "      <td>15.1360</td>\n",
       "      <td>15.1820</td>\n",
       "      <td>15.1820</td>\n",
       "      <td>88102000</td>\n",
       "    </tr>\n",
       "    <tr>\n",
       "      <th>2014-10-20</th>\n",
       "      <td>15.1475</td>\n",
       "      <td>15.3265</td>\n",
       "      <td>15.1010</td>\n",
       "      <td>15.3105</td>\n",
       "      <td>15.3105</td>\n",
       "      <td>64690000</td>\n",
       "    </tr>\n",
       "    <tr>\n",
       "      <th>2014-10-21</th>\n",
       "      <td>15.4950</td>\n",
       "      <td>15.7820</td>\n",
       "      <td>15.3535</td>\n",
       "      <td>15.7665</td>\n",
       "      <td>15.7665</td>\n",
       "      <td>71186000</td>\n",
       "    </tr>\n",
       "  </tbody>\n",
       "</table>\n",
       "</div>"
      ],
      "text/plain": [
       "               Open     High      Low    Close  Adj Close     Volume\n",
       "Date                                                                \n",
       "2014-10-15  15.2175  15.3950  14.9550  15.2985    15.2985  106878000\n",
       "2014-10-16  14.6915  15.3410  14.6915  15.1430    15.1430   94626000\n",
       "2014-10-17  15.3575  15.4600  15.1360  15.1820    15.1820   88102000\n",
       "2014-10-20  15.1475  15.3265  15.1010  15.3105    15.3105   64690000\n",
       "2014-10-21  15.4950  15.7820  15.3535  15.7665    15.7665   71186000"
      ]
     },
     "metadata": {},
     "output_type": "display_data"
    }
   ],
   "source": [
    "test = stock\n",
    "# Target column\n",
    "target_adj_close = pd.DataFrame(test['Adj Close'])\n",
    "display(test.head())"
   ]
  },
  {
   "cell_type": "code",
   "execution_count": 15,
   "id": "1465eb9c-fe16-4a62-851f-b88ed583ff48",
   "metadata": {},
   "outputs": [],
   "source": [
    "# selecting Feature Columns\n",
    "feature_columns = ['Open', 'High', 'Low', 'Volume']"
   ]
  },
  {
   "cell_type": "code",
   "execution_count": 16,
   "id": "b9c236ec-b6df-47fa-81e4-183bc40e1e9c",
   "metadata": {},
   "outputs": [
    {
     "data": {
      "text/html": [
       "<div>\n",
       "<style scoped>\n",
       "    .dataframe tbody tr th:only-of-type {\n",
       "        vertical-align: middle;\n",
       "    }\n",
       "\n",
       "    .dataframe tbody tr th {\n",
       "        vertical-align: top;\n",
       "    }\n",
       "\n",
       "    .dataframe thead th {\n",
       "        text-align: right;\n",
       "    }\n",
       "</style>\n",
       "<table border=\"1\" class=\"dataframe\">\n",
       "  <thead>\n",
       "    <tr style=\"text-align: right;\">\n",
       "      <th></th>\n",
       "      <th>Open</th>\n",
       "      <th>High</th>\n",
       "      <th>Low</th>\n",
       "      <th>Volume</th>\n",
       "    </tr>\n",
       "    <tr>\n",
       "      <th>Date</th>\n",
       "      <th></th>\n",
       "      <th></th>\n",
       "      <th></th>\n",
       "      <th></th>\n",
       "    </tr>\n",
       "  </thead>\n",
       "  <tbody>\n",
       "    <tr>\n",
       "      <th>2014-10-15</th>\n",
       "      <td>0.005367</td>\n",
       "      <td>0.004682</td>\n",
       "      <td>0.004084</td>\n",
       "      <td>0.194239</td>\n",
       "    </tr>\n",
       "    <tr>\n",
       "      <th>2014-10-16</th>\n",
       "      <td>0.002537</td>\n",
       "      <td>0.004393</td>\n",
       "      <td>0.002659</td>\n",
       "      <td>0.167575</td>\n",
       "    </tr>\n",
       "    <tr>\n",
       "      <th>2014-10-17</th>\n",
       "      <td>0.006120</td>\n",
       "      <td>0.005030</td>\n",
       "      <td>0.005064</td>\n",
       "      <td>0.153377</td>\n",
       "    </tr>\n",
       "    <tr>\n",
       "      <th>2014-10-20</th>\n",
       "      <td>0.004990</td>\n",
       "      <td>0.004315</td>\n",
       "      <td>0.004874</td>\n",
       "      <td>0.102425</td>\n",
       "    </tr>\n",
       "    <tr>\n",
       "      <th>2014-10-21</th>\n",
       "      <td>0.006860</td>\n",
       "      <td>0.006755</td>\n",
       "      <td>0.006240</td>\n",
       "      <td>0.116562</td>\n",
       "    </tr>\n",
       "  </tbody>\n",
       "</table>\n",
       "</div>"
      ],
      "text/plain": [
       "                Open      High       Low    Volume\n",
       "Date                                              \n",
       "2014-10-15  0.005367  0.004682  0.004084  0.194239\n",
       "2014-10-16  0.002537  0.004393  0.002659  0.167575\n",
       "2014-10-17  0.006120  0.005030  0.005064  0.153377\n",
       "2014-10-20  0.004990  0.004315  0.004874  0.102425\n",
       "2014-10-21  0.006860  0.006755  0.006240  0.116562"
      ]
     },
     "execution_count": 16,
     "metadata": {},
     "output_type": "execute_result"
    }
   ],
   "source": [
    "from sklearn.preprocessing import MinMaxScaler\n",
    "scaler = MinMaxScaler()\n",
    "feature_minmax_transform_data = scaler.fit_transform(test[feature_columns])\n",
    "feature_minmax_transform = pd.DataFrame(columns=feature_columns, data=feature_minmax_transform_data, index=test.index)\n",
    "feature_minmax_transform.head()"
   ]
  },
  {
   "cell_type": "code",
   "execution_count": 17,
   "id": "8735a99f-3c39-445f-9f00-baaf9c2fb396",
   "metadata": {},
   "outputs": [
    {
     "data": {
      "text/html": [
       "<div>\n",
       "<style scoped>\n",
       "    .dataframe tbody tr th:only-of-type {\n",
       "        vertical-align: middle;\n",
       "    }\n",
       "\n",
       "    .dataframe tbody tr th {\n",
       "        vertical-align: top;\n",
       "    }\n",
       "\n",
       "    .dataframe thead th {\n",
       "        text-align: right;\n",
       "    }\n",
       "</style>\n",
       "<table border=\"1\" class=\"dataframe\">\n",
       "  <thead>\n",
       "    <tr style=\"text-align: right;\">\n",
       "      <th></th>\n",
       "      <th>Open</th>\n",
       "      <th>High</th>\n",
       "      <th>Low</th>\n",
       "      <th>Volume</th>\n",
       "    </tr>\n",
       "    <tr>\n",
       "      <th>Date</th>\n",
       "      <th></th>\n",
       "      <th></th>\n",
       "      <th></th>\n",
       "      <th></th>\n",
       "    </tr>\n",
       "  </thead>\n",
       "  <tbody>\n",
       "    <tr>\n",
       "      <th>2014-10-15</th>\n",
       "      <td>0.005367</td>\n",
       "      <td>0.004682</td>\n",
       "      <td>0.004084</td>\n",
       "      <td>0.194239</td>\n",
       "    </tr>\n",
       "    <tr>\n",
       "      <th>2014-10-16</th>\n",
       "      <td>0.002537</td>\n",
       "      <td>0.004393</td>\n",
       "      <td>0.002659</td>\n",
       "      <td>0.167575</td>\n",
       "    </tr>\n",
       "    <tr>\n",
       "      <th>2014-10-17</th>\n",
       "      <td>0.006120</td>\n",
       "      <td>0.005030</td>\n",
       "      <td>0.005064</td>\n",
       "      <td>0.153377</td>\n",
       "    </tr>\n",
       "    <tr>\n",
       "      <th>2014-10-20</th>\n",
       "      <td>0.004990</td>\n",
       "      <td>0.004315</td>\n",
       "      <td>0.004874</td>\n",
       "      <td>0.102425</td>\n",
       "    </tr>\n",
       "    <tr>\n",
       "      <th>2014-10-21</th>\n",
       "      <td>0.006860</td>\n",
       "      <td>0.006755</td>\n",
       "      <td>0.006240</td>\n",
       "      <td>0.116562</td>\n",
       "    </tr>\n",
       "  </tbody>\n",
       "</table>\n",
       "</div>"
      ],
      "text/plain": [
       "                Open      High       Low    Volume\n",
       "Date                                              \n",
       "2014-10-15  0.005367  0.004682  0.004084  0.194239\n",
       "2014-10-16  0.002537  0.004393  0.002659  0.167575\n",
       "2014-10-17  0.006120  0.005030  0.005064  0.153377\n",
       "2014-10-20  0.004990  0.004315  0.004874  0.102425\n",
       "2014-10-21  0.006860  0.006755  0.006240  0.116562"
      ]
     },
     "metadata": {},
     "output_type": "display_data"
    },
    {
     "name": "stdout",
     "output_type": "stream",
     "text": [
      "Shape of features :  (2516, 4)\n",
      "Shape of target :  (2516, 1)\n"
     ]
    },
    {
     "data": {
      "text/html": [
       "<div>\n",
       "<style scoped>\n",
       "    .dataframe tbody tr th:only-of-type {\n",
       "        vertical-align: middle;\n",
       "    }\n",
       "\n",
       "    .dataframe tbody tr th {\n",
       "        vertical-align: top;\n",
       "    }\n",
       "\n",
       "    .dataframe thead th {\n",
       "        text-align: right;\n",
       "    }\n",
       "</style>\n",
       "<table border=\"1\" class=\"dataframe\">\n",
       "  <thead>\n",
       "    <tr style=\"text-align: right;\">\n",
       "      <th></th>\n",
       "      <th>Open</th>\n",
       "      <th>High</th>\n",
       "      <th>Low</th>\n",
       "      <th>Volume</th>\n",
       "    </tr>\n",
       "    <tr>\n",
       "      <th>Date</th>\n",
       "      <th></th>\n",
       "      <th></th>\n",
       "      <th></th>\n",
       "      <th></th>\n",
       "    </tr>\n",
       "  </thead>\n",
       "  <tbody>\n",
       "    <tr>\n",
       "      <th>2024-10-07</th>\n",
       "      <td>0.907785</td>\n",
       "      <td>0.905721</td>\n",
       "      <td>0.898296</td>\n",
       "      <td>0.053838</td>\n",
       "    </tr>\n",
       "    <tr>\n",
       "      <th>2024-10-08</th>\n",
       "      <td>0.902244</td>\n",
       "      <td>0.902989</td>\n",
       "      <td>0.901920</td>\n",
       "      <td>0.019034</td>\n",
       "    </tr>\n",
       "    <tr>\n",
       "      <th>2024-10-09</th>\n",
       "      <td>0.907086</td>\n",
       "      <td>0.917773</td>\n",
       "      <td>0.908034</td>\n",
       "      <td>0.018971</td>\n",
       "    </tr>\n",
       "    <tr>\n",
       "      <th>2024-10-10</th>\n",
       "      <td>0.930274</td>\n",
       "      <td>0.929987</td>\n",
       "      <td>0.928483</td>\n",
       "      <td>0.022109</td>\n",
       "    </tr>\n",
       "    <tr>\n",
       "      <th>2024-10-11</th>\n",
       "      <td>0.927584</td>\n",
       "      <td>0.939629</td>\n",
       "      <td>0.931025</td>\n",
       "      <td>0.017684</td>\n",
       "    </tr>\n",
       "  </tbody>\n",
       "</table>\n",
       "</div>"
      ],
      "text/plain": [
       "                Open      High       Low    Volume\n",
       "Date                                              \n",
       "2024-10-07  0.907785  0.905721  0.898296  0.053838\n",
       "2024-10-08  0.902244  0.902989  0.901920  0.019034\n",
       "2024-10-09  0.907086  0.917773  0.908034  0.018971\n",
       "2024-10-10  0.930274  0.929987  0.928483  0.022109\n",
       "2024-10-11  0.927584  0.939629  0.931025  0.017684"
      ]
     },
     "metadata": {},
     "output_type": "display_data"
    },
    {
     "data": {
      "text/html": [
       "<div>\n",
       "<style scoped>\n",
       "    .dataframe tbody tr th:only-of-type {\n",
       "        vertical-align: middle;\n",
       "    }\n",
       "\n",
       "    .dataframe tbody tr th {\n",
       "        vertical-align: top;\n",
       "    }\n",
       "\n",
       "    .dataframe thead th {\n",
       "        text-align: right;\n",
       "    }\n",
       "</style>\n",
       "<table border=\"1\" class=\"dataframe\">\n",
       "  <thead>\n",
       "    <tr style=\"text-align: right;\">\n",
       "      <th></th>\n",
       "      <th>Adj Close</th>\n",
       "    </tr>\n",
       "    <tr>\n",
       "      <th>Date</th>\n",
       "      <th></th>\n",
       "    </tr>\n",
       "  </thead>\n",
       "  <tbody>\n",
       "    <tr>\n",
       "      <th>2024-10-07</th>\n",
       "      <td>182.720001</td>\n",
       "    </tr>\n",
       "    <tr>\n",
       "      <th>2024-10-08</th>\n",
       "      <td>185.169998</td>\n",
       "    </tr>\n",
       "    <tr>\n",
       "      <th>2024-10-09</th>\n",
       "      <td>186.649994</td>\n",
       "    </tr>\n",
       "    <tr>\n",
       "      <th>2024-10-10</th>\n",
       "      <td>188.820007</td>\n",
       "    </tr>\n",
       "    <tr>\n",
       "      <th>2024-10-11</th>\n",
       "      <td>187.539993</td>\n",
       "    </tr>\n",
       "  </tbody>\n",
       "</table>\n",
       "</div>"
      ],
      "text/plain": [
       "             Adj Close\n",
       "Date                  \n",
       "2024-10-07  182.720001\n",
       "2024-10-08  185.169998\n",
       "2024-10-09  186.649994\n",
       "2024-10-10  188.820007\n",
       "2024-10-11  187.539993"
      ]
     },
     "metadata": {},
     "output_type": "display_data"
    },
    {
     "name": "stdout",
     "output_type": "stream",
     "text": [
      "\n",
      " -----After process------ \n",
      "\n",
      "Shape of features :  (2426, 4)\n",
      "Shape of target :  (2426, 1)\n"
     ]
    },
    {
     "data": {
      "text/html": [
       "<div>\n",
       "<style scoped>\n",
       "    .dataframe tbody tr th:only-of-type {\n",
       "        vertical-align: middle;\n",
       "    }\n",
       "\n",
       "    .dataframe tbody tr th {\n",
       "        vertical-align: top;\n",
       "    }\n",
       "\n",
       "    .dataframe thead th {\n",
       "        text-align: right;\n",
       "    }\n",
       "</style>\n",
       "<table border=\"1\" class=\"dataframe\">\n",
       "  <thead>\n",
       "    <tr style=\"text-align: right;\">\n",
       "      <th></th>\n",
       "      <th>Adj Close</th>\n",
       "    </tr>\n",
       "    <tr>\n",
       "      <th>Date</th>\n",
       "      <th></th>\n",
       "    </tr>\n",
       "  </thead>\n",
       "  <tbody>\n",
       "    <tr>\n",
       "      <th>2024-05-30</th>\n",
       "      <td>176.440002</td>\n",
       "    </tr>\n",
       "    <tr>\n",
       "      <th>2024-05-31</th>\n",
       "      <td>178.339996</td>\n",
       "    </tr>\n",
       "    <tr>\n",
       "      <th>2024-06-03</th>\n",
       "      <td>179.339996</td>\n",
       "    </tr>\n",
       "    <tr>\n",
       "      <th>2024-06-04</th>\n",
       "      <td>181.279999</td>\n",
       "    </tr>\n",
       "    <tr>\n",
       "      <th>2024-06-05</th>\n",
       "      <td>185.000000</td>\n",
       "    </tr>\n",
       "  </tbody>\n",
       "</table>\n",
       "</div>"
      ],
      "text/plain": [
       "             Adj Close\n",
       "Date                  \n",
       "2024-05-30  176.440002\n",
       "2024-05-31  178.339996\n",
       "2024-06-03  179.339996\n",
       "2024-06-04  181.279999\n",
       "2024-06-05  185.000000"
      ]
     },
     "metadata": {},
     "output_type": "display_data"
    }
   ],
   "source": [
    "display(feature_minmax_transform.head())\n",
    "print('Shape of features : ', feature_minmax_transform.shape)\n",
    "print('Shape of target : ', target_adj_close.shape)\n",
    "\n",
    "# Shift target array because we want to predict the n + 1 day value\n",
    "\n",
    "\n",
    "target_adj_close = target_adj_close.shift(-1)\n",
    "validation_y = target_adj_close[-90:-1]\n",
    "target_adj_close = target_adj_close[:-90]\n",
    "\n",
    "# Taking last 90 rows of data to be validation set\n",
    "validation_X = feature_minmax_transform[-90:-1]\n",
    "feature_minmax_transform = feature_minmax_transform[:-90]\n",
    "display(validation_X.tail())\n",
    "display(validation_y.tail())\n",
    "\n",
    "print(\"\\n -----After process------ \\n\")\n",
    "print('Shape of features : ', feature_minmax_transform.shape)\n",
    "print('Shape of target : ', target_adj_close.shape)\n",
    "display(target_adj_close.tail())"
   ]
  },
  {
   "cell_type": "code",
   "execution_count": 18,
   "id": "60b2dcaa-777e-4543-ad1f-8524bf3e47de",
   "metadata": {},
   "outputs": [],
   "source": [
    "window_size = 50\n",
    "week = 7\n",
    "X = []\n",
    "Y = []\n",
    "\n",
    "for i in range(0 , len(stock) - window_size -1 , 1):\n",
    "    first = stock.iloc[i, 4]\n",
    "    temp = []\n",
    "    temp2 = []\n",
    "    for j in range(window_size):\n",
    "        temp.append((stock.iloc[i + j, 4] - first) / first)\n",
    "    # for j in range(week):\n",
    "    temp2.append((stock.iloc[i +window_size, 4] - first) / first)\n",
    "    # X.append(np.array(stock.iloc[i:i+window_size,4]).reshape(50,1))\n",
    "    # Y.append(np.array(stock.iloc[i+window_size,4]).reshape(1,1))\n",
    "    # print(stock2.iloc[i:i+window_size,4])\n",
    "    X.append(np.array(temp).reshape(50, 1))\n",
    "    Y.append(np.array(temp2).reshape(1,1))"
   ]
  },
  {
   "cell_type": "code",
   "execution_count": 19,
   "id": "e4bfcb9c-9c61-402c-9764-5581b97e823c",
   "metadata": {},
   "outputs": [
    {
     "name": "stdout",
     "output_type": "stream",
     "text": [
      "2218\n",
      "247\n"
     ]
    }
   ],
   "source": [
    "train_X,test_X,train_label,test_label = train_test_split(X, Y, test_size=0.1,shuffle=False)\n",
    "len_t = len(train_X)\n",
    "# train_X,valid_X,train_label,valid_label = train_test_split(train_X, train_label, test_size=0.2,shuffle=True)\n",
    "\n",
    "print(len(train_X))\n",
    "print(len(test_X))\n",
    "train_X = np.array(train_X)\n",
    "test_X = np.array(test_X)\n",
    "train_label = np.array(train_label)\n",
    "test_label = np.array(test_label)\n",
    "# valid_label = np.array(valid_label)\n",
    "# valid_X = np.array(valid_X)\n",
    "train_X = train_X.reshape(train_X.shape[0],1,50,1)\n",
    "test_X = test_X.reshape(test_X.shape[0],1,50,1)"
   ]
  },
  {
   "cell_type": "code",
   "execution_count": 20,
   "id": "8479d15f-ef50-496f-a452-310a6f7edf73",
   "metadata": {},
   "outputs": [
    {
     "name": "stdout",
     "output_type": "stream",
     "text": [
      "Epoch 1/40\n"
     ]
    },
    {
     "name": "stderr",
     "output_type": "stream",
     "text": [
      "C:\\Python311\\Lib\\site-packages\\keras\\src\\layers\\convolutional\\base_conv.py:107: UserWarning: Do not pass an `input_shape`/`input_dim` argument to a layer. When using Sequential models, prefer using an `Input(shape)` object as the first layer in the model instead.\n",
      "  super().__init__(activity_regularizer=activity_regularizer, **kwargs)\n"
     ]
    },
    {
     "name": "stdout",
     "output_type": "stream",
     "text": [
      "\u001b[1m35/35\u001b[0m \u001b[32m━━━━━━━━━━━━━━━━━━━━\u001b[0m\u001b[37m\u001b[0m \u001b[1m2s\u001b[0m 19ms/step - loss: 0.0145 - val_loss: 0.0049\n",
      "Epoch 2/40\n",
      "\u001b[1m35/35\u001b[0m \u001b[32m━━━━━━━━━━━━━━━━━━━━\u001b[0m\u001b[37m\u001b[0m \u001b[1m0s\u001b[0m 11ms/step - loss: 0.0050 - val_loss: 0.0037\n",
      "Epoch 3/40\n",
      "\u001b[1m35/35\u001b[0m \u001b[32m━━━━━━━━━━━━━━━━━━━━\u001b[0m\u001b[37m\u001b[0m \u001b[1m1s\u001b[0m 14ms/step - loss: 0.0038 - val_loss: 0.0028\n",
      "Epoch 4/40\n",
      "\u001b[1m35/35\u001b[0m \u001b[32m━━━━━━━━━━━━━━━━━━━━\u001b[0m\u001b[37m\u001b[0m \u001b[1m1s\u001b[0m 13ms/step - loss: 0.0032 - val_loss: 0.0023\n",
      "Epoch 5/40\n",
      "\u001b[1m35/35\u001b[0m \u001b[32m━━━━━━━━━━━━━━━━━━━━\u001b[0m\u001b[37m\u001b[0m \u001b[1m1s\u001b[0m 13ms/step - loss: 0.0028 - val_loss: 0.0024\n",
      "Epoch 6/40\n",
      "\u001b[1m35/35\u001b[0m \u001b[32m━━━━━━━━━━━━━━━━━━━━\u001b[0m\u001b[37m\u001b[0m \u001b[1m1s\u001b[0m 13ms/step - loss: 0.0028 - val_loss: 0.0020\n",
      "Epoch 7/40\n",
      "\u001b[1m35/35\u001b[0m \u001b[32m━━━━━━━━━━━━━━━━━━━━\u001b[0m\u001b[37m\u001b[0m \u001b[1m1s\u001b[0m 13ms/step - loss: 0.0025 - val_loss: 0.0023\n",
      "Epoch 8/40\n",
      "\u001b[1m35/35\u001b[0m \u001b[32m━━━━━━━━━━━━━━━━━━━━\u001b[0m\u001b[37m\u001b[0m \u001b[1m1s\u001b[0m 13ms/step - loss: 0.0025 - val_loss: 0.0023\n",
      "Epoch 9/40\n",
      "\u001b[1m35/35\u001b[0m \u001b[32m━━━━━━━━━━━━━━━━━━━━\u001b[0m\u001b[37m\u001b[0m \u001b[1m0s\u001b[0m 13ms/step - loss: 0.0026 - val_loss: 0.0019\n",
      "Epoch 10/40\n",
      "\u001b[1m35/35\u001b[0m \u001b[32m━━━━━━━━━━━━━━━━━━━━\u001b[0m\u001b[37m\u001b[0m \u001b[1m1s\u001b[0m 13ms/step - loss: 0.0025 - val_loss: 0.0019\n",
      "Epoch 11/40\n",
      "\u001b[1m35/35\u001b[0m \u001b[32m━━━━━━━━━━━━━━━━━━━━\u001b[0m\u001b[37m\u001b[0m \u001b[1m1s\u001b[0m 13ms/step - loss: 0.0024 - val_loss: 0.0019\n",
      "Epoch 12/40\n",
      "\u001b[1m35/35\u001b[0m \u001b[32m━━━━━━━━━━━━━━━━━━━━\u001b[0m\u001b[37m\u001b[0m \u001b[1m0s\u001b[0m 13ms/step - loss: 0.0025 - val_loss: 0.0018\n",
      "Epoch 13/40\n",
      "\u001b[1m35/35\u001b[0m \u001b[32m━━━━━━━━━━━━━━━━━━━━\u001b[0m\u001b[37m\u001b[0m \u001b[1m1s\u001b[0m 12ms/step - loss: 0.0025 - val_loss: 0.0018\n",
      "Epoch 14/40\n",
      "\u001b[1m35/35\u001b[0m \u001b[32m━━━━━━━━━━━━━━━━━━━━\u001b[0m\u001b[37m\u001b[0m \u001b[1m1s\u001b[0m 13ms/step - loss: 0.0023 - val_loss: 0.0018\n",
      "Epoch 15/40\n",
      "\u001b[1m35/35\u001b[0m \u001b[32m━━━━━━━━━━━━━━━━━━━━\u001b[0m\u001b[37m\u001b[0m \u001b[1m1s\u001b[0m 14ms/step - loss: 0.0023 - val_loss: 0.0018\n",
      "Epoch 16/40\n",
      "\u001b[1m35/35\u001b[0m \u001b[32m━━━━━━━━━━━━━━━━━━━━\u001b[0m\u001b[37m\u001b[0m \u001b[1m1s\u001b[0m 13ms/step - loss: 0.0023 - val_loss: 0.0016\n",
      "Epoch 17/40\n",
      "\u001b[1m35/35\u001b[0m \u001b[32m━━━━━━━━━━━━━━━━━━━━\u001b[0m\u001b[37m\u001b[0m \u001b[1m0s\u001b[0m 13ms/step - loss: 0.0023 - val_loss: 0.0018\n",
      "Epoch 18/40\n",
      "\u001b[1m35/35\u001b[0m \u001b[32m━━━━━━━━━━━━━━━━━━━━\u001b[0m\u001b[37m\u001b[0m \u001b[1m1s\u001b[0m 13ms/step - loss: 0.0023 - val_loss: 0.0018\n",
      "Epoch 19/40\n",
      "\u001b[1m35/35\u001b[0m \u001b[32m━━━━━━━━━━━━━━━━━━━━\u001b[0m\u001b[37m\u001b[0m \u001b[1m1s\u001b[0m 14ms/step - loss: 0.0023 - val_loss: 0.0018\n",
      "Epoch 20/40\n",
      "\u001b[1m35/35\u001b[0m \u001b[32m━━━━━━━━━━━━━━━━━━━━\u001b[0m\u001b[37m\u001b[0m \u001b[1m1s\u001b[0m 14ms/step - loss: 0.0023 - val_loss: 0.0017\n",
      "Epoch 21/40\n",
      "\u001b[1m35/35\u001b[0m \u001b[32m━━━━━━━━━━━━━━━━━━━━\u001b[0m\u001b[37m\u001b[0m \u001b[1m1s\u001b[0m 14ms/step - loss: 0.0022 - val_loss: 0.0017\n",
      "Epoch 22/40\n",
      "\u001b[1m35/35\u001b[0m \u001b[32m━━━━━━━━━━━━━━━━━━━━\u001b[0m\u001b[37m\u001b[0m \u001b[1m1s\u001b[0m 15ms/step - loss: 0.0023 - val_loss: 0.0017\n",
      "Epoch 23/40\n",
      "\u001b[1m35/35\u001b[0m \u001b[32m━━━━━━━━━━━━━━━━━━━━\u001b[0m\u001b[37m\u001b[0m \u001b[1m0s\u001b[0m 13ms/step - loss: 0.0023 - val_loss: 0.0018\n",
      "Epoch 24/40\n",
      "\u001b[1m35/35\u001b[0m \u001b[32m━━━━━━━━━━━━━━━━━━━━\u001b[0m\u001b[37m\u001b[0m \u001b[1m0s\u001b[0m 13ms/step - loss: 0.0022 - val_loss: 0.0018\n",
      "Epoch 25/40\n",
      "\u001b[1m35/35\u001b[0m \u001b[32m━━━━━━━━━━━━━━━━━━━━\u001b[0m\u001b[37m\u001b[0m \u001b[1m1s\u001b[0m 13ms/step - loss: 0.0022 - val_loss: 0.0017\n",
      "Epoch 26/40\n",
      "\u001b[1m35/35\u001b[0m \u001b[32m━━━━━━━━━━━━━━━━━━━━\u001b[0m\u001b[37m\u001b[0m \u001b[1m1s\u001b[0m 19ms/step - loss: 0.0022 - val_loss: 0.0017\n",
      "Epoch 27/40\n",
      "\u001b[1m35/35\u001b[0m \u001b[32m━━━━━━━━━━━━━━━━━━━━\u001b[0m\u001b[37m\u001b[0m \u001b[1m1s\u001b[0m 13ms/step - loss: 0.0022 - val_loss: 0.0018\n",
      "Epoch 28/40\n",
      "\u001b[1m35/35\u001b[0m \u001b[32m━━━━━━━━━━━━━━━━━━━━\u001b[0m\u001b[37m\u001b[0m \u001b[1m0s\u001b[0m 12ms/step - loss: 0.0023 - val_loss: 0.0018\n",
      "Epoch 29/40\n",
      "\u001b[1m35/35\u001b[0m \u001b[32m━━━━━━━━━━━━━━━━━━━━\u001b[0m\u001b[37m\u001b[0m \u001b[1m1s\u001b[0m 13ms/step - loss: 0.0022 - val_loss: 0.0017\n",
      "Epoch 30/40\n",
      "\u001b[1m35/35\u001b[0m \u001b[32m━━━━━━━━━━━━━━━━━━━━\u001b[0m\u001b[37m\u001b[0m \u001b[1m0s\u001b[0m 13ms/step - loss: 0.0022 - val_loss: 0.0017\n",
      "Epoch 31/40\n",
      "\u001b[1m35/35\u001b[0m \u001b[32m━━━━━━━━━━━━━━━━━━━━\u001b[0m\u001b[37m\u001b[0m \u001b[1m1s\u001b[0m 13ms/step - loss: 0.0022 - val_loss: 0.0017\n",
      "Epoch 32/40\n",
      "\u001b[1m35/35\u001b[0m \u001b[32m━━━━━━━━━━━━━━━━━━━━\u001b[0m\u001b[37m\u001b[0m \u001b[1m1s\u001b[0m 13ms/step - loss: 0.0022 - val_loss: 0.0017\n",
      "Epoch 33/40\n",
      "\u001b[1m35/35\u001b[0m \u001b[32m━━━━━━━━━━━━━━━━━━━━\u001b[0m\u001b[37m\u001b[0m \u001b[1m1s\u001b[0m 14ms/step - loss: 0.0022 - val_loss: 0.0017\n",
      "Epoch 34/40\n",
      "\u001b[1m35/35\u001b[0m \u001b[32m━━━━━━━━━━━━━━━━━━━━\u001b[0m\u001b[37m\u001b[0m \u001b[1m0s\u001b[0m 13ms/step - loss: 0.0022 - val_loss: 0.0017\n",
      "Epoch 35/40\n",
      "\u001b[1m35/35\u001b[0m \u001b[32m━━━━━━━━━━━━━━━━━━━━\u001b[0m\u001b[37m\u001b[0m \u001b[1m0s\u001b[0m 12ms/step - loss: 0.0022 - val_loss: 0.0017\n",
      "Epoch 36/40\n",
      "\u001b[1m35/35\u001b[0m \u001b[32m━━━━━━━━━━━━━━━━━━━━\u001b[0m\u001b[37m\u001b[0m \u001b[1m0s\u001b[0m 12ms/step - loss: 0.0022 - val_loss: 0.0017\n",
      "Epoch 37/40\n",
      "\u001b[1m35/35\u001b[0m \u001b[32m━━━━━━━━━━━━━━━━━━━━\u001b[0m\u001b[37m\u001b[0m \u001b[1m1s\u001b[0m 14ms/step - loss: 0.0021 - val_loss: 0.0018\n",
      "Epoch 38/40\n",
      "\u001b[1m35/35\u001b[0m \u001b[32m━━━━━━━━━━━━━━━━━━━━\u001b[0m\u001b[37m\u001b[0m \u001b[1m1s\u001b[0m 13ms/step - loss: 0.0022 - val_loss: 0.0018\n",
      "Epoch 39/40\n",
      "\u001b[1m35/35\u001b[0m \u001b[32m━━━━━━━━━━━━━━━━━━━━\u001b[0m\u001b[37m\u001b[0m \u001b[1m1s\u001b[0m 13ms/step - loss: 0.0022 - val_loss: 0.0018\n",
      "Epoch 40/40\n",
      "\u001b[1m35/35\u001b[0m \u001b[32m━━━━━━━━━━━━━━━━━━━━\u001b[0m\u001b[37m\u001b[0m \u001b[1m1s\u001b[0m 15ms/step - loss: 0.0022 - val_loss: 0.0017\n",
      "\n",
      "----- Model Evaluation -----\n",
      "\u001b[1m8/8\u001b[0m \u001b[32m━━━━━━━━━━━━━━━━━━━━\u001b[0m\u001b[37m\u001b[0m \u001b[1m0s\u001b[0m 5ms/step - loss: 0.0017 \n",
      "Test Loss (MSE): 0.001702388166449964\n"
     ]
    }
   ],
   "source": [
    "# Model setup\n",
    "model = Sequential()\n",
    "model.add(TimeDistributed(Conv1D(128, kernel_size=1, activation='relu', input_shape=(None, 50, 1))))\n",
    "model.add(TimeDistributed(MaxPooling1D(2)))\n",
    "model.add(TimeDistributed(Conv1D(256, kernel_size=1, activation='relu')))\n",
    "model.add(TimeDistributed(MaxPooling1D(2)))\n",
    "model.add(TimeDistributed(Conv1D(512, kernel_size=1, activation='relu')))\n",
    "model.add(TimeDistributed(MaxPooling1D(2)))\n",
    "model.add(TimeDistributed(Flatten()))\n",
    "model.add(Dropout(0.25))\n",
    "model.add(Dense(1, activation='linear'))\n",
    "model.compile(optimizer='RMSprop', loss='mse')\n",
    "\n",
    "# Train the model\n",
    "model.fit(train_X, train_label, validation_data=(test_X, test_label), epochs=40, batch_size=64, shuffle=False)\n",
    "\n",
    "# Evaluate the model\n",
    "print(\"\\n----- Model Evaluation -----\")\n",
    "test_loss = model.evaluate(test_X, test_label)\n",
    "print(f\"Test Loss (MSE): {test_loss}\")"
   ]
  },
  {
   "cell_type": "code",
   "execution_count": 21,
   "id": "51c74533-71f2-455c-99fa-fd33253105b1",
   "metadata": {},
   "outputs": [
    {
     "name": "stdout",
     "output_type": "stream",
     "text": [
      "\u001b[1m8/8\u001b[0m \u001b[32m━━━━━━━━━━━━━━━━━━━━\u001b[0m\u001b[37m\u001b[0m \u001b[1m0s\u001b[0m 26ms/step\n",
      "RMSE: 0.041260007860533486\n",
      "R² Score: 0.7843373804352956\n"
     ]
    }
   ],
   "source": [
    "# Predictions\n",
    "predicted = model.predict(test_X)\n",
    "test_label = test_label[:, 0]\n",
    "predicted = predicted[:, 0]\n",
    "\n",
    "# Calculate RMSE and R2 Score\n",
    "rmse = np.sqrt(mean_squared_error(test_label, predicted))\n",
    "r2 = r2_score(test_label, predicted)\n",
    "print(f\"RMSE: {rmse}\")\n",
    "print(f\"R2 Score: {r2}\")\n"
   ]
  },
  {
   "cell_type": "code",
   "execution_count": 22,
   "id": "7930562d-ddb4-4f16-860a-bc7e547c0802",
   "metadata": {},
   "outputs": [
    {
     "data": {
      "image/png": "[encoded data removed]",
      "text/plain": [
       "<Figure size 640x480 with 1 Axes>"
      ]
     },
     "metadata": {},
     "output_type": "display_data"
    }
   ],
   "source": [
    "# Plotting results\n",
    "plt.plot(test_label, color='blue', label='Actual Stock Price')\n",
    "plt.plot(predicted, color='orange', label='Predicted Stock Price')\n",
    "plt.title('Stock Price Prediction for Amazon')\n",
    "plt.xlabel('Time')\n",
    "plt.ylabel('Stock Price')\n",
    "plt.legend()\n",
    "plt.show()"
   ]
  },
  {
   "cell_type": "code",
   "execution_count": 23,
   "id": "0ae83650-c6f8-4a94-b3f8-375ff9ede632",
   "metadata": {},
   "outputs": [
    {
     "data": {
      "image/png": "[encoded data removed]",
      "text/plain": [
       "<Figure size 640x480 with 1 Axes>"
      ]
     },
     "metadata": {},
     "output_type": "display_data"
    }
   ],
   "source": [
    "for j in range(len_t , len_t + len(test_X)):\n",
    "    temp =stock.iloc[j,4]\n",
    "    test_label[j - len_t] = test_label[j - len_t] * temp + temp\n",
    "    predicted[j - len_t] = predicted[j - len_t] * temp + temp\n",
    "plt.plot(test_label, color = 'blue', label = ' Stock Price')\n",
    "plt.plot(predicted, color = 'orange', label = 'Predicted  Stock Price')\n",
    "plt.title(' Stock Price Prediction for Amazon')\n",
    "plt.xlabel('Time')\n",
    "plt.ylabel(' Stock Price')\n",
    "plt.legend()\n",
    "plt.show()"
   ]
  },
  {
   "cell_type": "code",
   "execution_count": 24,
   "id": "c1c6d554-a145-43b5-bfe6-75e8e9cd59b9",
   "metadata": {},
   "outputs": [],
   "source": [
    "col1 = pd.DataFrame(test_label, columns=['True'])\n",
    "\n",
    "col2 = pd.DataFrame(predicted, columns=['CNN_prediction'])\n",
    "\n",
    "results = pd.concat([col1, col2], axis=1)\n",
    "results.to_excel('Predicted_CNN.xlsx')"
   ]
  },
  {
   "cell_type": "code",
   "execution_count": null,
   "id": "348e091d-0147-463a-8baf-25db0368714c",
   "metadata": {},
   "outputs": [],
   "source": []
  }
 ],
 "metadata": {
  "kernelspec": {
   "display_name": "Python 3 (ipykernel)",
   "language": "python",
   "name": "python3"
  },
  "language_info": {
   "codemirror_mode": {
    "name": "ipython",
    "version": 3
   },
   "file_extension": ".py",
   "mimetype": "text/x-python",
   "name": "python",
   "nbconvert_exporter": "python",
   "pygments_lexer": "ipython3",
   "version": "3.11.4"
  }
 },
 "nbformat": 4,
 "nbformat_minor": 5
}
